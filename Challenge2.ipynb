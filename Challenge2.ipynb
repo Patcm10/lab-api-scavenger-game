{
 "cells": [
  {
   "cell_type": "code",
   "execution_count": 3,
   "metadata": {},
   "outputs": [],
   "source": [
    "import requests\n",
    "import json\n",
    "import pandas as pd"
   ]
  },
  {
   "cell_type": "code",
   "execution_count": 4,
   "metadata": {},
   "outputs": [
    {
     "data": {
      "text/plain": [
       "[{'total': 3, 'week': 1532217600, 'days': [0, 0, 0, 0, 0, 0, 3]},\n",
       " {'total': 1, 'week': 1532822400, 'days': [0, 0, 0, 0, 0, 1, 0]},\n",
       " {'total': 26, 'week': 1533427200, 'days': [0, 1, 1, 19, 2, 3, 0]},\n",
       " {'total': 0, 'week': 1534032000, 'days': [0, 0, 0, 0, 0, 0, 0]},\n",
       " {'total': 9, 'week': 1534636800, 'days': [0, 0, 4, 1, 2, 2, 0]},\n",
       " {'total': 6, 'week': 1535241600, 'days': [0, 3, 0, 2, 1, 0, 0]},\n",
       " {'total': 3, 'week': 1535846400, 'days': [0, 0, 0, 1, 0, 2, 0]},\n",
       " {'total': 7, 'week': 1536451200, 'days': [0, 0, 0, 0, 3, 3, 1]},\n",
       " {'total': 7, 'week': 1537056000, 'days': [0, 0, 1, 1, 5, 0, 0]},\n",
       " {'total': 1, 'week': 1537660800, 'days': [0, 1, 0, 0, 0, 0, 0]},\n",
       " {'total': 7, 'week': 1538265600, 'days': [0, 0, 1, 2, 2, 2, 0]},\n",
       " {'total': 2, 'week': 1538870400, 'days': [0, 1, 0, 1, 0, 0, 0]},\n",
       " {'total': 2, 'week': 1539475200, 'days': [0, 0, 0, 0, 2, 0, 0]},\n",
       " {'total': 29, 'week': 1540080000, 'days': [7, 1, 5, 2, 11, 3, 0]},\n",
       " {'total': 49, 'week': 1540684800, 'days': [1, 5, 5, 9, 20, 0, 9]},\n",
       " {'total': 21, 'week': 1541289600, 'days': [5, 4, 4, 1, 6, 1, 0]},\n",
       " {'total': 17, 'week': 1541894400, 'days': [0, 3, 5, 8, 0, 1, 0]},\n",
       " {'total': 15, 'week': 1542499200, 'days': [2, 5, 4, 2, 0, 0, 2]},\n",
       " {'total': 21, 'week': 1543104000, 'days': [0, 7, 5, 2, 0, 5, 2]},\n",
       " {'total': 19, 'week': 1543708800, 'days': [1, 5, 4, 8, 1, 0, 0]},\n",
       " {'total': 4, 'week': 1544313600, 'days': [0, 3, 0, 0, 0, 1, 0]},\n",
       " {'total': 7, 'week': 1544918400, 'days': [0, 0, 1, 2, 2, 2, 0]},\n",
       " {'total': 1, 'week': 1545523200, 'days': [0, 0, 0, 0, 1, 0, 0]},\n",
       " {'total': 6, 'week': 1546128000, 'days': [0, 0, 0, 0, 2, 3, 1]},\n",
       " {'total': 13, 'week': 1546732800, 'days': [1, 8, 1, 0, 2, 1, 0]},\n",
       " {'total': 8, 'week': 1547337600, 'days': [0, 1, 0, 2, 4, 1, 0]},\n",
       " {'total': 0, 'week': 1547942400, 'days': [0, 0, 0, 0, 0, 0, 0]},\n",
       " {'total': 0, 'week': 1548547200, 'days': [0, 0, 0, 0, 0, 0, 0]},\n",
       " {'total': 0, 'week': 1549152000, 'days': [0, 0, 0, 0, 0, 0, 0]},\n",
       " {'total': 0, 'week': 1549756800, 'days': [0, 0, 0, 0, 0, 0, 0]},\n",
       " {'total': 0, 'week': 1550361600, 'days': [0, 0, 0, 0, 0, 0, 0]},\n",
       " {'total': 0, 'week': 1550966400, 'days': [0, 0, 0, 0, 0, 0, 0]},\n",
       " {'total': 2, 'week': 1551571200, 'days': [0, 0, 0, 0, 2, 0, 0]},\n",
       " {'total': 0, 'week': 1552176000, 'days': [0, 0, 0, 0, 0, 0, 0]},\n",
       " {'total': 0, 'week': 1552780800, 'days': [0, 0, 0, 0, 0, 0, 0]},\n",
       " {'total': 0, 'week': 1553385600, 'days': [0, 0, 0, 0, 0, 0, 0]},\n",
       " {'total': 0, 'week': 1553990400, 'days': [0, 0, 0, 0, 0, 0, 0]},\n",
       " {'total': 0, 'week': 1554595200, 'days': [0, 0, 0, 0, 0, 0, 0]},\n",
       " {'total': 0, 'week': 1555200000, 'days': [0, 0, 0, 0, 0, 0, 0]},\n",
       " {'total': 0, 'week': 1555804800, 'days': [0, 0, 0, 0, 0, 0, 0]},\n",
       " {'total': 0, 'week': 1556409600, 'days': [0, 0, 0, 0, 0, 0, 0]},\n",
       " {'total': 0, 'week': 1557014400, 'days': [0, 0, 0, 0, 0, 0, 0]},\n",
       " {'total': 0, 'week': 1557619200, 'days': [0, 0, 0, 0, 0, 0, 0]},\n",
       " {'total': 0, 'week': 1558224000, 'days': [0, 0, 0, 0, 0, 0, 0]},\n",
       " {'total': 0, 'week': 1558828800, 'days': [0, 0, 0, 0, 0, 0, 0]},\n",
       " {'total': 0, 'week': 1559433600, 'days': [0, 0, 0, 0, 0, 0, 0]},\n",
       " {'total': 0, 'week': 1560038400, 'days': [0, 0, 0, 0, 0, 0, 0]},\n",
       " {'total': 0, 'week': 1560643200, 'days': [0, 0, 0, 0, 0, 0, 0]},\n",
       " {'total': 0, 'week': 1561248000, 'days': [0, 0, 0, 0, 0, 0, 0]},\n",
       " {'total': 0, 'week': 1561852800, 'days': [0, 0, 0, 0, 0, 0, 0]},\n",
       " {'total': 0, 'week': 1562457600, 'days': [0, 0, 0, 0, 0, 0, 0]},\n",
       " {'total': 0, 'week': 1563062400, 'days': [0, 0, 0, 0, 0, 0, 0]}]"
      ]
     },
     "execution_count": 4,
     "metadata": {},
     "output_type": "execute_result"
    }
   ],
   "source": [
    "# Número de commits de una semana anterior\n",
    "\n",
    "commits = requests.get('https://api.github.com/repos/ironhack-datalabs/mad-oct-2018/stats/commit_activity')\n",
    "commits = commits.json()\n",
    "commits\n",
    "                       "
   ]
  },
  {
   "cell_type": "code",
   "execution_count": 6,
   "metadata": {},
   "outputs": [
    {
     "name": "stdout",
     "output_type": "stream",
     "text": [
      "Commits de la semana pasada:0\n"
     ]
    }
   ],
   "source": [
    "# Commits de la semana pasada\n",
    "print('Commits de la semana pasada:{}'.format(commits[-1]['total']))"
   ]
  }
 ],
 "metadata": {
  "kernelspec": {
   "display_name": "Python 3",
   "language": "python",
   "name": "python3"
  },
  "language_info": {
   "codemirror_mode": {
    "name": "ipython",
    "version": 3
   },
   "file_extension": ".py",
   "mimetype": "text/x-python",
   "name": "python",
   "nbconvert_exporter": "python",
   "pygments_lexer": "ipython3",
   "version": "3.7.3"
  }
 },
 "nbformat": 4,
 "nbformat_minor": 2
}
